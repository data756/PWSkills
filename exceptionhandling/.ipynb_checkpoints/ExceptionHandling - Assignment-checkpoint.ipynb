{
 "cells": [
  {
   "cell_type": "markdown",
   "id": "0ec303c3",
   "metadata": {},
   "source": [
    "Ans1 :- Exception is an event , which happens when normal flow of the program is disruppted. An event when python programming language encounter the situation which can not be handle while executing the programs. Exception would be raise if the logically some error is detected run time. \n",
    "\n",
    "Syntax errors :- misuse of the python language. that is similar to the grammer or spelling mistakes in english language.  \n",
    "\n",
    "Only the syntax errors can not be handled using exceptions because the interpreter sees the invalid syntax during its parsing phase and raises a Syntax error exception."
   ]
  },
  {
   "cell_type": "markdown",
   "id": "0095a7b5",
   "metadata": {},
   "source": [
    "Ans2:- When the execption is not handled , normal flow of the program will be disruppted and we will not be able to execute the complete program.\n",
    "Please find below example ..\n"
   ]
  },
  {
   "cell_type": "code",
   "execution_count": 1,
   "id": "630808cc",
   "metadata": {},
   "outputs": [
    {
     "ename": "ZeroDivisionError",
     "evalue": "division by zero",
     "output_type": "error",
     "traceback": [
      "\u001b[0;31m---------------------------------------------------------------------------\u001b[0m",
      "\u001b[0;31mZeroDivisionError\u001b[0m                         Traceback (most recent call last)",
      "Cell \u001b[0;32mIn[1], line 3\u001b[0m\n\u001b[1;32m      1\u001b[0m \u001b[38;5;66;03m#Ans2\u001b[39;00m\n\u001b[1;32m      2\u001b[0m c\u001b[38;5;241m=\u001b[39m\u001b[38;5;241m4\u001b[39m\n\u001b[0;32m----> 3\u001b[0m \u001b[43mc\u001b[49m\u001b[38;5;241;43m/\u001b[39;49m\u001b[38;5;241;43m0\u001b[39;49m\n\u001b[1;32m      4\u001b[0m \u001b[38;5;28mprint\u001b[39m(\u001b[38;5;124m\"\u001b[39m\u001b[38;5;124mHello\u001b[39m\u001b[38;5;124m\"\u001b[39m)\n",
      "\u001b[0;31mZeroDivisionError\u001b[0m: division by zero"
     ]
    }
   ],
   "source": [
    "#Ans2\n",
    "c=4\n",
    "c/0\n",
    "print(\"Hello\")"
   ]
  },
  {
   "cell_type": "markdown",
   "id": "d639735b",
   "metadata": {},
   "source": [
    "In above code, exception was thrown and code execution was broken and line 4 of the code was not executed."
   ]
  },
  {
   "cell_type": "markdown",
   "id": "8e84f962",
   "metadata": {},
   "source": [
    "Ans3:-  In order to handle the above code, need to write the exception using try and except block. Please check below code to handle above raised execption."
   ]
  },
  {
   "cell_type": "code",
   "execution_count": 2,
   "id": "06bdcf0f",
   "metadata": {},
   "outputs": [
    {
     "name": "stdout",
     "output_type": "stream",
     "text": [
      "division by zero\n",
      "Hello\n"
     ]
    }
   ],
   "source": [
    "try:\n",
    "    c=4\n",
    "    c/0\n",
    "except Exception as e:\n",
    "    print(e)\n",
    "print(\"Hello\")\n",
    "    "
   ]
  },
  {
   "cell_type": "code",
   "execution_count": null,
   "id": "39d1b790",
   "metadata": {},
   "outputs": [],
   "source": [
    "#Ans4\n",
    "try:\n",
    "    c=4\n",
    "    c/0\n",
    "except Exception as e:\n",
    "    print(e)\n",
    "print(\"Hello\")"
   ]
  }
 ],
 "metadata": {
  "kernelspec": {
   "display_name": "Python 3 (ipykernel)",
   "language": "python",
   "name": "python3"
  },
  "language_info": {
   "codemirror_mode": {
    "name": "ipython",
    "version": 3
   },
   "file_extension": ".py",
   "mimetype": "text/x-python",
   "name": "python",
   "nbconvert_exporter": "python",
   "pygments_lexer": "ipython3",
   "version": "3.10.6"
  }
 },
 "nbformat": 4,
 "nbformat_minor": 5
}
